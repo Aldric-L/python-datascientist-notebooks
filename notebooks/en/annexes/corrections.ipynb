{
 "cells": [
  {
   "cell_type": "markdown",
   "id": "aaba4594-54ab-4b03-a738-ad4934e5d48d",
   "metadata": {},
   "source": [
    "# Corrections\n",
    "\n",
    "Lino Galiana  \n",
    "2025-10-06"
   ]
  }
 ],
 "metadata": {
  "kernelspec": {
   "display_name": "Python 3",
   "language": "python",
   "name": "python3"
  }
 },
 "nbformat": 4,
 "nbformat_minor": 5
}
