{
 "cells": [
  {
   "cell_type": "markdown",
   "id": "2daa6381-dd38-49d8-a9a5-a55eefc07331",
   "metadata": {},
   "source": [
    "# A propos de ce site\n",
    "\n",
    "Lino Galiana  \n",
    "2025-10-06\n",
    "\n",
    "Course website [*Python for Data Science*](https://www.ensae.fr/courses/1425-python-pour-le-data-scientist)\n",
    "<a href=\"https://github.com/linogaliana/python-datascientist\" class=\"github\"><i class=\"fab fa-python\"></i></a>, an introduction to `Python` for the second year of the engineering curriculum at [`ENSAE`](https://www.ensae.fr/) (Master 1).\n",
    "\n",
    "<br>\n",
    "\n",
    "All content of this group is freely available here or on [`Github`](https://github.com/linogaliana/python-datascientist)\n",
    "<a href=\"https://github.com/linogaliana/python-datascientist\" class=\"github\"><i class=\"fab fa-github\"></i></a> and can be tested in the form of `Jupyter` notebooks.\n",
    "\n",
    "<br>"
   ]
  },
  {
   "cell_type": "raw",
   "id": "1a0174f4-6e85-400a-a47b-5c74084a1cf9",
   "metadata": {},
   "source": [
    "<details>"
   ]
  },
  {
   "cell_type": "raw",
   "id": "e30d324a-9e42-46ae-ad1c-9065c95f2d40",
   "metadata": {},
   "source": [
    "<summary>"
   ]
  },
  {
   "cell_type": "markdown",
   "id": "bde0599b-3f8f-4235-b8d6-67e3c0934b09",
   "metadata": {},
   "source": [
    "Example with the introduction to `Pandas`"
   ]
  },
  {
   "cell_type": "raw",
   "id": "60c34ea4-fb57-4149-a07f-4df4b42ebfd5",
   "metadata": {},
   "source": [
    "</summary>"
   ]
  },
  {
   "cell_type": "raw",
   "id": "50b24e4d-3bd0-4fa6-a8f5-afeb54ce1567",
   "metadata": {},
   "source": [
    "</details>"
   ]
  },
  {
   "cell_type": "raw",
   "id": "3702e23d-ec55-41f6-adc3-168f11f0ea2a",
   "metadata": {},
   "source": [
    "<details>"
   ]
  },
  {
   "cell_type": "raw",
   "id": "a11cbf1a-74a5-418a-b074-558f5dc7416b",
   "metadata": {},
   "source": [
    "<summary>"
   ]
  },
  {
   "cell_type": "markdown",
   "id": "c487365e-3827-4767-bcda-94f987ddd401",
   "metadata": {},
   "source": [
    "On the agenda:"
   ]
  },
  {
   "cell_type": "raw",
   "id": "bf955690-5665-471a-9d36-d23325e121f1",
   "metadata": {},
   "source": [
    "</summary>"
   ]
  },
  {
   "cell_type": "markdown",
   "id": "4293673f-3f6c-4e45-9f3d-4b8d37a00b7e",
   "metadata": {},
   "source": [
    "Overall, this course offers a comprehensive content that can satisfy both beginners in data science and those looking for more advanced material:\n",
    "<br>\n",
    "\n",
    "1.  **Data Manipulation**: standard data manipulation (`Pandas`), geographic data (`Geopandas`), data retrieval (web scraping, APIs)…\n",
    "2.  **Data Visualization**: classic visualizations (`Matplotlib`, `Seaborn`), cartography, reactive visualizations (`Plotly`, `Folium`)\n",
    "3.  **Modeling**: machine learning (`Scikit`), econometrics\n",
    "4.  **Text Data Processing** (NLP): introduction to tokenization with `NLTK` and `SpaCy`, modeling…\n",
    "5.  **Introduction to Modern Data Science**: cloud computing, `ElasticSearch`, continuous integration…\n",
    "\n",
    "All content on this site relies on open data, whether it is French data (mainly from the central platform [`data.gouv`](https://www.data.gouv.fr) or the Insee website) or American data. The program is presented linearly at the top of this page (👆️) or in a disordered manner below (👇️).\n",
    "\n",
    "A good complement to the website content is the course given with Romain Avouac in the final year at ENSAE, which focuses more on the production of data science projects: [https://ensae-reproductibilite.github.io/](https://ensae-reproductibilite.github.io/website/)"
   ]
  },
  {
   "cell_type": "raw",
   "id": "5f7ef7eb-cb4c-4e1b-bb3d-6c17d22b9384",
   "metadata": {},
   "source": [
    "</details>"
   ]
  },
  {
   "cell_type": "markdown",
   "id": "821f1d8f-15dd-4bbd-86ae-37f28401d9ac",
   "metadata": {},
   "source": [
    ":::::\n",
    "\n",
    "![](https://minio.lab.sspcloud.fr/lgaliana/generative-art/pythonds/kiddos.png)\n",
    "\n",
    "::::\n",
    "\n",
    ":::"
   ]
  }
 ],
 "metadata": {
  "kernelspec": {
   "display_name": "Python 3",
   "language": "python",
   "name": "python3"
  }
 },
 "nbformat": 4,
 "nbformat_minor": 5
}
