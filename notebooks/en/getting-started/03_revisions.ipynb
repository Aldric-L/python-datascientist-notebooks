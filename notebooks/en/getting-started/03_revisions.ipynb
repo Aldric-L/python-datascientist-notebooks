{
 "cells": [
  {
   "cell_type": "markdown",
   "id": "5c5a76f7-acb4-4bfb-8195-a6ed0d58b4dc",
   "metadata": {},
   "source": [
    "# A few refresher exercises to get back in the saddle\n",
    "\n",
    "Lino Galiana  \n",
    "2025-10-06\n",
    "\n",
    "Le contenu de cette page est disponible sur [le site web du cours](pythonds.linogaliana.fr/content/getting-started/04_revisions.html)"
   ]
  }
 ],
 "metadata": {
  "kernelspec": {
   "display_name": "Python 3",
   "language": "python",
   "name": "python3"
  }
 },
 "nbformat": 4,
 "nbformat_minor": 5
}
