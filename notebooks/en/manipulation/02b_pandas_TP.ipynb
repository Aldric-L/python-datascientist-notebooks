{
 "cells": [
  {
   "cell_type": "markdown",
   "id": "50e225dd-80b2-44f4-809c-4995193c047c",
   "metadata": {},
   "source": [
    "# Pratique de pandas : un exemple complet\n",
    "\n",
    "Lino Galiana  \n",
    "2025-10-06\n",
    "\n",
    "La partie `Pandas` a évolué récemment. Vous pouvez retrouver les contenus liés à `Pandas` dans les chapitres suivants:\n",
    "\n",
    "-   [Introduction à `Pandas` et à la logique du *DataFrame*](../../content/manipulation/02_pandas_intro.qmd) ;\n",
    "-   [Statistiques par groupe et association de plusieurs jeux de données avec `Pandas`](../../content/manipulation/02_pandas_suite.qmd) ;"
   ]
  }
 ],
 "metadata": {
  "kernelspec": {
   "display_name": "Python 3",
   "language": "python",
   "name": "python3"
  }
 },
 "nbformat": 4,
 "nbformat_minor": 5
}
