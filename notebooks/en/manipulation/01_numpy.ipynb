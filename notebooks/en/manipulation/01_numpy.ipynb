{
 "cells": [
  {
   "cell_type": "markdown",
   "id": "bf038e6a-b42f-4491-aea6-c815cef37db9",
   "metadata": {},
   "source": [
    "# Numpy, the foundation of data science\n",
    "\n",
    "Lino Galiana  \n",
    "2025-10-06\n",
    "\n",
    "<div class=\"badge-container\"><div class=\"badge-text\">If you want to try the examples in this tutorial:</div><a href=\"https://github.com/linogaliana/python-datascientist-notebooks/blob/main/notebooks/en/manipulation/01_numpy.ipynb\" target=\"_blank\" rel=\"noopener\"><img src=\"https://img.shields.io/static/v1?logo=github&label=&message=View%20on%20GitHub&color=181717\" alt=\"View on GitHub\"></a>\n",
    "<a href=\"https://datalab.sspcloud.fr/launcher/ide/vscode-python?autoLaunch=true&name=«01_numpy»&init.personalInit=«https%3A%2F%2Fraw.githubusercontent.com%2Flinogaliana%2Fpython-datascientist%2Fmain%2Fsspcloud%2Finit-vscode.sh»&init.personalInitArgs=«en/manipulation%2001_numpy%20correction»\" target=\"_blank\" rel=\"noopener\"><img src=\"https://custom-icon-badges.demolab.com/badge/SSP%20Cloud-Lancer_avec_VSCode-blue?logo=vsc&logoColor=white\" alt=\"Onyxia\"></a>\n",
    "<a href=\"https://datalab.sspcloud.fr/launcher/ide/jupyter-python?autoLaunch=true&name=«01_numpy»&init.personalInit=«https%3A%2F%2Fraw.githubusercontent.com%2Flinogaliana%2Fpython-datascientist%2Fmain%2Fsspcloud%2Finit-jupyter.sh»&init.personalInitArgs=«en/manipulation%2001_numpy%20correction»\" target=\"_blank\" rel=\"noopener\"><img src=\"https://img.shields.io/badge/SSP%20Cloud-Lancer_avec_Jupyter-orange?logo=Jupyter&logoColor=orange\" alt=\"Onyxia\"></a>\n",
    "<a href=\"https://colab.research.google.com/github/linogaliana/python-datascientist-notebooks-colab//en/blob/main//notebooks/en/manipulation/01_numpy.ipynb\" target=\"_blank\" rel=\"noopener\"><img src=\"https://colab.research.google.com/assets/colab-badge.svg\" alt=\"Open In Colab\"></a><br></div>\n",
    "\n",
    "> **Note**\n",
    ">\n",
    "> Ceci est la version française 🇫🇷 de ce chapitre, pour voir la version anglaise allez <a href=\"/home/runner/work/python-datascientist/python-datascientist/en/content/manipulation/01_numpy.qmd\">ici</a>.\n",
    "\n",
    "# 1. Introduction\n",
    "\n",
    "This chapter serves as an introduction to *Numpy* to ensure that the basics of vector calculations with `Python` are mastered. The first part of the chapter presents small exercises to practice some basic functions of `Numpy`. The end of the chapter presents more in-depth practical exercises using `Numpy`.\n",
    "\n",
    "It is recommended to regularly refer to the [*numpy cheatsheet*](https://www.datacamp.com/community/blog/python-numpy-cheat-sheet) and the [official documentation](https://numpy.org/doc/stable/) if you have any doubts about a function.\n",
    "\n",
    "In this chapter, we will adhere to the convention of importing `Numpy` as follows:"
   ]
  },
  {
   "cell_type": "code",
   "execution_count": null,
   "id": "import-np",
   "metadata": {},
   "outputs": [],
   "source": [
    "import numpy as np"
   ]
  },
  {
   "cell_type": "markdown",
   "id": "f279ccf6-060c-4e43-892b-e0bf04a3295f",
   "metadata": {},
   "source": [
    "We will also set the seed of the random number generator to obtain reproducible results:"
   ]
  },
  {
   "cell_type": "code",
   "execution_count": null,
   "id": "01c096a0",
   "metadata": {},
   "outputs": [],
   "source": [
    "import numpy as np\n",
    "rng = np.random.default_rng(seed=12345)"
   ]
  },
  {
   "cell_type": "markdown",
   "id": "c93c15e7-e408-4925-b415-7ca407e11bc0",
   "metadata": {},
   "source": [
    "> **Caution**\n",
    ">\n",
    "> Historically, random numbers were generated using the `numpy.random` package. However, the authors of `Numpy` [now recommend](https://numpy.org/doc/stable/reference/random/index.html) using generators instead. The examples in this tutorial adopt this practice.\n",
    "\n",
    "# 2. Concept of *array*\n",
    "\n",
    "In the world of data science, as will be discussed in more depth in the upcoming chapters, the central object is the two-dimensional data table. The first dimension corresponds to rows and the second to columns. If we only consider one dimension, we refer to a variable (a column) of our data table. It is therefore natural to link data tables to the mathematical objects of matrices and vectors.\n",
    "\n",
    "`NumPy` (`Numerical Python`) is the foundational brick for processing numerical lists or strings of text as matrices. `NumPy` comes into play to offer this type of object and the associated standardized operations that do not exist in the basic `Python` language.\n",
    "\n",
    "The central object of `NumPy` is the **`array`**, which is a multidimensional data table. A `Numpy` array can be one-dimensional and considered as a vector (`1d-array`), two-dimensional and considered as a matrix (`2d-array`), or, more generally, take the form of a multidimensional object (`Nd-array`), a sort of nested table.\n",
    "\n",
    "Simple arrays (one or two-dimensional) are easy to represent and cover most of the use-case related to `Numpy`. We will discover in the next chapter on `Pandas` that, in practice, we usually don’t directly use `Numpy` since it is a low-level library. A `Pandas` *DataFrame* is constructed from a collection of one-dimensional arrays (the variables of the table), which allows performing coherent (and optimized) operations with the variable type. Having some `Numpy` knowledge is useful for understanding the logic of vector manipulation, making data processing more readable, efficient, and reliable.\n",
    "\n",
    "Compared to a list,\n",
    "\n",
    "-   an *array* can only contain one type of data (`integer`, `string`, etc.), unlike a list.\n",
    "-   operations implemented by `Numpy` will be more efficient and require less memory.\n",
    "\n",
    "Geographical data will constitute a slightly more complex construction than a traditional `DataFrame`. The geographical dimension takes the form of a deeper table, at least two-dimensional (coordinates of a point). However, geographical data manipulation libraries will handle this increased complexity.\n",
    "\n",
    "## 2.1 Creating an array\n",
    "\n",
    "We can create an array in several ways. To create an array from a list, simply use the `array` method:"
   ]
  },
  {
   "cell_type": "code",
   "execution_count": null,
   "id": "6b255034",
   "metadata": {},
   "outputs": [
    {
     "data": {
      "text/plain": [
       "array([1, 2, 5])"
      ]
     },
     "metadata": {},
     "output_type": "display_data"
    }
   ],
   "source": [
    "np.array([1,2,5])"
   ]
  },
  {
   "cell_type": "markdown",
   "id": "f25f2709-6461-44a6-b27a-5cda0050559d",
   "metadata": {},
   "source": [
    "It is possible to add a `dtype` argument to constrain the array type:"
   ]
  },
  {
   "cell_type": "code",
   "execution_count": null,
   "id": "63f1027d",
   "metadata": {},
   "outputs": [
    {
     "data": {
      "text/plain": [
       "array([list(['a', 'z', 'e']), list(['r', 't']), list(['y'])], dtype=object)"
      ]
     },
     "metadata": {},
     "output_type": "display_data"
    }
   ],
   "source": [
    "np.array([[\"a\",\"z\",\"e\"],[\"r\",\"t\"],[\"y\"]], dtype=\"object\")"
   ]
  },
  {
   "cell_type": "markdown",
   "id": "14d1f627-d9f3-450e-90c1-554de2d617cb",
   "metadata": {},
   "source": [
    "There are also practical methods for creating arrays:\n",
    "\n",
    "-   Logical sequences: `np.arange` (sequence) or `np.linspace` (linear interpolation between two bounds);\n",
    "-   Ordered sequences: array filled with zeros, ones, or a desired number: `np.zeros`, `np.ones`, or `np.full`;\n",
    "-   Random sequences: random number generation functions: `rng.uniform`, `rng.normal`, etc. where `rng` is a random number generator;\n",
    "-   Matrix in the form of an identity matrix: `np.eye`.\n",
    "\n",
    "This gives, for logical sequences:"
   ]
  },
  {
   "cell_type": "code",
   "execution_count": null,
   "id": "b2aabd26",
   "metadata": {},
   "outputs": [
    {
     "data": {
      "text/plain": [
       "array([0, 1, 2, 3, 4, 5, 6, 7, 8, 9])"
      ]
     },
     "metadata": {},
     "output_type": "display_data"
    }
   ],
   "source": [
    "np.arange(0,10)"
   ]
  },
  {
   "cell_type": "code",
   "execution_count": null,
   "id": "5fc856e2",
   "metadata": {},
   "outputs": [
    {
     "data": {
      "text/plain": [
       "array([0, 3, 6, 9])"
      ]
     },
     "metadata": {},
     "output_type": "display_data"
    }
   ],
   "source": [
    "np.arange(0,10,3)"
   ]
  },
  {
   "cell_type": "code",
   "execution_count": null,
   "id": "9c728916",
   "metadata": {},
   "outputs": [
    {
     "data": {
      "text/plain": [
       "array([0.  , 0.25, 0.5 , 0.75, 1.  ])"
      ]
     },
     "metadata": {},
     "output_type": "display_data"
    }
   ],
   "source": [
    "np.linspace(0, 1, 5)"
   ]
  },
  {
   "cell_type": "markdown",
   "id": "7a43d1f6-5882-46c9-82bd-16a4635baada",
   "metadata": {},
   "source": [
    "For an array initialized to 0:"
   ]
  },
  {
   "cell_type": "code",
   "execution_count": null,
   "id": "c520553e",
   "metadata": {},
   "outputs": [
    {
     "data": {
      "text/plain": [
       "array([0, 0, 0, 0, 0, 0, 0, 0, 0, 0])"
      ]
     },
     "metadata": {},
     "output_type": "display_data"
    }
   ],
   "source": [
    "np.zeros(10, dtype=int)"
   ]
  },
  {
   "cell_type": "markdown",
   "id": "5cc7bf20-f179-4bbd-948b-f53e8f995eaa",
   "metadata": {},
   "source": [
    "or initialized to 1:"
   ]
  },
  {
   "cell_type": "code",
   "execution_count": null,
   "id": "462dd233",
   "metadata": {},
   "outputs": [
    {
     "data": {
      "text/plain": [
       "array([[1., 1., 1., 1., 1.],\n",
       "       [1., 1., 1., 1., 1.],\n",
       "       [1., 1., 1., 1., 1.]])"
      ]
     },
     "metadata": {},
     "output_type": "display_data"
    }
   ],
   "source": [
    "np.ones((3, 5), dtype=float)"
   ]
  },
  {
   "cell_type": "markdown",
   "id": "3d47d301-236e-4511-b55f-ee4891e5798a",
   "metadata": {},
   "source": [
    "or even initialized to 3.14:"
   ]
  },
  {
   "cell_type": "code",
   "execution_count": null,
   "id": "3a303999",
   "metadata": {},
   "outputs": [
    {
     "data": {
      "text/plain": [
       "array([[3.14, 3.14, 3.14, 3.14, 3.14],\n",
       "       [3.14, 3.14, 3.14, 3.14, 3.14],\n",
       "       [3.14, 3.14, 3.14, 3.14, 3.14]])"
      ]
     },
     "metadata": {},
     "output_type": "display_data"
    }
   ],
   "source": [
    "np.full((3, 5), 3.14)"
   ]
  },
  {
   "cell_type": "markdown",
   "id": "5ae58bbc-4d60-4447-972b-76124dd08f44",
   "metadata": {},
   "source": [
    "Finally, to create the matrix $I_3$:"
   ]
  },
  {
   "cell_type": "code",
   "execution_count": null,
   "id": "0cf02231",
   "metadata": {},
   "outputs": [
    {
     "data": {
      "text/plain": [
       "array([[1., 0., 0.],\n",
       "       [0., 1., 0.],\n",
       "       [0., 0., 1.]])"
      ]
     },
     "metadata": {},
     "output_type": "display_data"
    }
   ],
   "source": [
    "np.eye(3)"
   ]
  },
  {
   "cell_type": "markdown",
   "id": "8bbb0568-65d3-4f52-a2b9-e52df5031f82",
   "metadata": {},
   "source": [
    "> **Exercise 1**\n",
    ">\n",
    "> Generate:\n",
    ">\n",
    "> -   $X$ a random variable, 1000 repetitions of a $U(0,1)$ distribution\n",
    "> -   $Y$ a random variable, 1000 repetitions of a normal distribution with zero mean and variance equal to 2\n",
    "> -   Verify the variance of $Y$ with `np.var`\n",
    "\n",
    "# 3. Indexing and slicing\n",
    "\n",
    "## 3.1 Logic illustrated with a one-dimensional array\n",
    "\n",
    "The simplest structure is the one-dimensional array:"
   ]
  },
  {
   "cell_type": "code",
   "execution_count": null,
   "id": "2b01b8ae",
   "metadata": {},
   "outputs": [
    {
     "name": "stdout",
     "output_type": "stream",
     "text": [
      "[0 1 2 3 4 5 6 7 8 9]"
     ]
    }
   ],
   "source": [
    "x = np.arange(10)\n",
    "print(x)"
   ]
  },
  {
   "cell_type": "markdown",
   "id": "74750ece-976e-4872-bac0-7842f76e1837",
   "metadata": {},
   "source": [
    "Indexing in this case is similar to that of a list:\n",
    "\n",
    "-   The first element is 0\n",
    "-   The nth element is accessible at position $n-1$\n",
    "\n",
    "The logic for accessing elements is as follows:\n",
    "\n",
    "``` python\n",
    "x[start:stop:step]\n",
    "```\n",
    "\n",
    "With a one-dimensional array, the slicing operation (keeping a slice of the array) is very simple. For example, to keep the first *K* elements of an array, you would do:\n",
    "\n",
    "``` python\n",
    "x[:K]\n",
    "```\n",
    "\n",
    "In this case, you select the K$^{th}$ element using:\n",
    "\n",
    "``` python\n",
    "x[K-1]\n",
    "```\n",
    "\n",
    "To select only one element, you would do:"
   ]
  },
  {
   "cell_type": "code",
   "execution_count": null,
   "id": "944d2dcc",
   "metadata": {},
   "outputs": [
    {
     "data": {
      "text/plain": [
       "np.int64(2)"
      ]
     },
     "metadata": {},
     "output_type": "display_data"
    }
   ],
   "source": [
    "x = np.arange(10)\n",
    "x[2]"
   ]
  },
  {
   "cell_type": "markdown",
   "id": "b870cb7d-625a-4163-a355-109acfcb1173",
   "metadata": {},
   "source": [
    "The syntax for selecting particular indices from a list also works with arrays.\n",
    "\n",
    "> **Exercise 2**\n",
    ">\n",
    "> Take `x = np.arange(10)` and…\n",
    ">\n",
    "> -   Select elements 0, 3, 5 from `x`\n",
    "> -   Select even elements\n",
    "> -   Select all elements except the first\n",
    "> -   Select the first 5 elements"
   ]
  },
  {
   "cell_type": "code",
   "execution_count": null,
   "id": "26abe6bf",
   "metadata": {},
   "outputs": [
    {
     "data": {
      "text/plain": [
       "array([0, 1, 2, 3, 4, 5, 6, 7, 8, 9])"
      ]
     },
     "metadata": {},
     "output_type": "display_data"
    }
   ],
   "source": [
    "np.arange(10)"
   ]
  },
  {
   "cell_type": "markdown",
   "id": "92ab50fd-3c79-4b9c-9cd4-75fc4db1aaf1",
   "metadata": {},
   "source": [
    "The same logic applies to multidimensional *arrays*. Indexing then takes place at several levels. Take, for example, a 2-dimensional array (a matrix of sorts):"
   ]
  },
  {
   "cell_type": "code",
   "execution_count": null,
   "id": "981bef59",
   "metadata": {},
   "outputs": [],
   "source": [
    "x = np.array([[1, 2, 3], [4, 5, 6]], np.int32)"
   ]
  },
  {
   "cell_type": "markdown",
   "id": "48e42a8e-79ed-4048-9c26-b019bb0d8455",
   "metadata": {},
   "source": [
    "If we want to select the 2nd row, 3rd column (the element with value 6), we do"
   ]
  },
  {
   "cell_type": "code",
   "execution_count": null,
   "id": "0e7be553",
   "metadata": {},
   "outputs": [
    {
     "data": {
      "text/plain": [
       "np.int32(6)"
      ]
     },
     "metadata": {},
     "output_type": "display_data"
    }
   ],
   "source": [
    "x[1, 2]"
   ]
  },
  {
   "cell_type": "markdown",
   "id": "df955ffa-b462-49a3-9708-cee3b07b9ae5",
   "metadata": {},
   "source": [
    "Now, to select a complete column (e.g. the 2nd), we can use the 2nd index to specify it (index 1 in Python since indexing starts from 0) and then `:` on the first dimension (shortened version of `0:N`) to avoid discriminating according to this dimension:"
   ]
  },
  {
   "cell_type": "code",
   "execution_count": null,
   "id": "10049d27",
   "metadata": {},
   "outputs": [
    {
     "data": {
      "text/plain": [
       "array([2, 5], dtype=int32)"
      ]
     },
     "metadata": {},
     "output_type": "display_data"
    }
   ],
   "source": [
    "x[:,1]"
   ]
  },
  {
   "cell_type": "markdown",
   "id": "dfdf915f-5e96-4caa-bccf-e6b2a241f262",
   "metadata": {},
   "source": [
    "The principle is generalized, but becomes more complex, for nested *arrays*. Fortunately, these are objects we rarely manipulate directly, as most of our numerical data are flat arrays (a value - the observation - is the intersection of a row - the individual - and a column - the variable).\n",
    "\n",
    "## 3.2 Regarding performance\n",
    "\n",
    "A key element in the performance of `Numpy` compared to lists, when it comes to slicing, is that an array does not return a copy of the element in question (a copy that costs memory and time) but simply a view of it.\n",
    "\n",
    "When it is necessary to make a copy, for example to avoid altering the underlying array, you can use the `copy` method:\n",
    "\n",
    "``` python\n",
    "x_sub_copy = x[:2, :2].copy()\n",
    "```\n",
    "\n",
    "It is also possible, and more practical, to select data based on logical conditions (an operation called a ***boolean mask***). This functionality will mainly be used to perform data filtering operations.\n",
    "\n",
    "For simple comparison operations, logical comparators may be sufficient. These comparisons also work on multidimensional arrays thanks to broadcasting, which we will discuss later:"
   ]
  },
  {
   "cell_type": "code",
   "execution_count": null,
   "id": "fa5ec920",
   "metadata": {},
   "outputs": [
    {
     "name": "stdout",
     "output_type": "stream",
     "text": [
      "[0 1 2 3 4 5 6 7 8 9]\n",
      "[[-1  1 -2]\n",
      " [-3  2  0]]"
     ]
    }
   ],
   "source": [
    "x = np.arange(10)\n",
    "x2 = np.array([[-1,1,-2],[-3,2,0]])\n",
    "print(x)\n",
    "print(x2)"
   ]
  },
  {
   "cell_type": "code",
   "execution_count": null,
   "id": "6eb4c98f",
   "metadata": {},
   "outputs": [
    {
     "data": {
      "text/plain": [
       "array([[ True, False,  True],\n",
       "       [ True, False, False]])"
      ]
     },
     "metadata": {},
     "output_type": "display_data"
    }
   ],
   "source": [
    "x==2\n",
    "x2<0"
   ]
  },
  {
   "cell_type": "markdown",
   "id": "df4f5d50-5581-4a1a-94c2-43ca6624a889",
   "metadata": {},
   "source": [
    "To select the observations related to the logical condition, just use the `numpy` slicing logic that works with logical conditions.\n",
    "\n",
    "> **Exercise 3**\n",
    ">\n",
    "> Given\n",
    ">\n",
    "> ``` python\n",
    "> x = np.random.normal(size=10000)\n",
    "> ```\n",
    ">\n",
    "> 1.  Keep only the values whose absolute value is greater than 1.96\n",
    "> 2.  Count the number of values greater than 1.96 in absolute value and their proportion in the whole set\n",
    "> 3.  Sum the absolute values of all observations greater (in absolute value) than 1.96 and relate them to the sum of the values of `x` (in absolute value)\n",
    "\n",
    "Whenever possible, it is recommended to use `numpy`’s logical functions (optimized and well-handling dimensions). Among them are:\n",
    "\n",
    "-   `count_nonzero` ;\n",
    "-   `isnan` ;\n",
    "-   `any` or `all` especially with the `axis` argument ;\n",
    "-   `np.array_equal` to check element-by-element equality.\n",
    "\n",
    "Let’s create `x` a multidimensional array and `y` a one-dimensional array with a missing value."
   ]
  },
  {
   "cell_type": "code",
   "execution_count": null,
   "id": "e1f6088a",
   "metadata": {},
   "outputs": [],
   "source": [
    "# Assuming rng has been created beforehand\n",
    "x = rng.normal(0, size=(3, 4))\n",
    "y = np.array([np.nan, 0, 1])"
   ]
  },
  {
   "cell_type": "markdown",
   "id": "6b45cfca-78bd-479f-b938-4688e051c4b7",
   "metadata": {},
   "source": [
    "> **Exercise 4**\n",
    ">\n",
    "> 1.  Use `count_nonzero` on `y`\n",
    "> 2.  Use `isnan` on `y` and count the number of non-NaN values\n",
    "> 3.  Check if `x` has at least one positive value in its entirety, by rows and then by columns.\n",
    ">\n",
    "> <details>\n",
    ">\n",
    "> <summary>\n",
    ">\n",
    "> Hint\n",
    ">\n",
    "> </summary>\n",
    ">\n",
    "> Take a look at the `axis` parameter by researching online. For example, [here](https://www.sharpsightlabs.com/blog/numpy-axes-explained/).\n",
    ">\n",
    "> </details>\n",
    "\n",
    "# 4. Manipulating an array\n",
    "\n",
    "## 4.1 Manipulation functions\n",
    "\n",
    "`Numpy` provides standardized methods or functions for modifying\n",
    "here’s a table showing some of them:\n",
    "\n",
    "Here are some functions to modify an array:\n",
    "\n",
    "| Operation | Implementation |\n",
    "|------------------------------|------------------------------------------|\n",
    "| Flatten an array | `x.flatten()` (method) |\n",
    "| Transpose an array | `x.T` (method) or `np.transpose(x)` (function) |\n",
    "| Append elements to the end | `np.append(x, [1,2])` |\n",
    "| Insert elements at a given position (at positions 1 and 2) | `np.insert(x, [1,2], 3)` |\n",
    "| Delete elements (at positions 0 and 3) | `np.delete(x, [0,3])` |\n",
    "\n",
    "To combine arrays, you can use, depending on the case, the functions `np.concatenate`, `np.vstack` or the method `.r_` (row-wise concatenation). `np.hstack` or the method `.column_stack` or `.c_` (column-wise concatenation)."
   ]
  },
  {
   "cell_type": "code",
   "execution_count": null,
   "id": "260addd8",
   "metadata": {},
   "outputs": [],
   "source": [
    "x = rng.normal(size = 10)"
   ]
  },
  {
   "cell_type": "markdown",
   "id": "1c82c21b-db42-44c7-bedf-f213d89af218",
   "metadata": {},
   "source": [
    "To sort an array, use `np.sort`"
   ]
  },
  {
   "cell_type": "code",
   "execution_count": null,
   "id": "8f51732c",
   "metadata": {},
   "outputs": [
    {
     "data": {
      "text/plain": [
       "array([1, 2, 3, 4, 5, 6, 7])"
      ]
     },
     "metadata": {},
     "output_type": "display_data"
    }
   ],
   "source": [
    "x = np.array([7, 2, 3, 1, 6, 5, 4])\n",
    "\n",
    "np.sort(x)"
   ]
  },
  {
   "cell_type": "markdown",
   "id": "3c6c50fa-5e1e-451e-b4b3-ac07032dab12",
   "metadata": {},
   "source": [
    "If you want to perform a partial reordering to find the *k* smallest values in an `array` without sorting them, use `partition`:"
   ]
  },
  {
   "cell_type": "code",
   "execution_count": null,
   "id": "2d597e1f",
   "metadata": {},
   "outputs": [
    {
     "data": {
      "text/plain": [
       "array([1, 2, 3, 4, 5, 6, 7])"
      ]
     },
     "metadata": {},
     "output_type": "display_data"
    }
   ],
   "source": [
    "np.partition(x, 3)"
   ]
  },
  {
   "cell_type": "markdown",
   "id": "ad80719f-e413-45fe-a68e-9f0e1431cbf9",
   "metadata": {},
   "source": [
    "For classical descriptive statistics, `Numpy` offers a number of already implemented functions, which can be combined with the `axis` argument."
   ]
  },
  {
   "cell_type": "code",
   "execution_count": null,
   "id": "f24f83d1",
   "metadata": {},
   "outputs": [],
   "source": [
    "x = rng.normal(0, size=(3, 4))"
   ]
  },
  {
   "cell_type": "markdown",
   "id": "88ef658c-5871-41ae-83d2-bc30f2941de0",
   "metadata": {},
   "source": [
    "> **Exercise 5**\n",
    ">\n",
    "> 1.  Sum all the elements of an `array`, the elements by row, and the elements by column. Verify the consistency.\n",
    "> 2.  Write a function `statdesc` to return the following values: mean, median, standard deviation, minimum, and maximum. Apply it to `x` using the *axis* argument.\n",
    "\n",
    "# 5. Broadcasting\n",
    "\n",
    "Broadcasting refers to a set of rules for applying operations to arrays of different dimensions. In practice, it generally consists of applying a single operation to all members of a `numpy` array.\n",
    "\n",
    "The difference can be understood from the following example. Broadcasting allows the scalar `5` to be transformed into a 3-dimensional array:"
   ]
  },
  {
   "cell_type": "code",
   "execution_count": null,
   "id": "f75bedea",
   "metadata": {},
   "outputs": [
    {
     "data": {
      "text/plain": [
       "array([5, 6, 7])"
      ]
     },
     "metadata": {},
     "output_type": "display_data"
    }
   ],
   "source": [
    "a = np.array([0, 1, 2])\n",
    "b = np.array([5, 5, 5])\n",
    "\n",
    "a + b\n",
    "a + 5"
   ]
  },
  {
   "cell_type": "markdown",
   "id": "15e674b9-7e30-431c-af60-2fd7aec92fa1",
   "metadata": {},
   "source": [
    "Broadcasting can be very practical for efficiently performing operations on data with a complex structure. For more details, visit [here](https://jakevdp.github.io/PythonDataScienceHandbook/02.05-computation-on-arrays-broadcasting.html) or [here](https://stackoverflow.com/questions/47435526/what-is-the-meaning-of-axis-1-in-keras-argmax).\n",
    "\n",
    "## 5.1 Application: programming your own k-nearest neighbors\n",
    "\n",
    "> **Exercise 6 (a bit more challenging)**\n",
    ">\n",
    "> 1.  Create `X`, a two-dimensional array (i.e., a matrix) with 10 rows and 2 columns. The numbers in the array are random.\n",
    "> 2.  Import the `matplotlib.pyplot` module as `plt`. Use `plt.scatter` to plot the data as a scatter plot.\n",
    "> 3.  Construct a 10x10 matrix storing, at element $(i,j)$, the Euclidean distance between points $X[i,]$ and $X[j,]$. To do this, you will need to work with dimensions by creating nested arrays using `np.newaxis`:\n",
    ">     1.  First, use `X1 = X[:, np.newaxis, :]` to transform the matrix into a nested array. Check the dimensions.\n",
    ">     2.  Create `X2` of dimension `(1, 10, 2)` using the same logic.\n",
    ">     3.  Deduce, for each point, the distance with other points for each coordinate. Square this distance.\n",
    ">     4.  At this stage, you should have an array of dimension `(10, 10, 2)`. The reduction to a matrix is obtained by summing over the last axis. Check the help of `np.sum` on how to sum over the last axis.\n",
    ">     5.  Finally, apply the square root to obtain a proper Euclidean distance.\n",
    "> 4.  Verify that the diagonal elements are zero (distance of a point to itself…).\n",
    "> 5.  Now, sort for each point the points with the most similar values. Use `np.argsort` to get the ranking of the closest points for each row.\n",
    "> 6.  We are interested in the k-nearest neighbors. For now, set k=2. Use `argpartition` to reorder each row so that the 2 closest neighbors of each point come first, followed by the rest of the row.\n",
    "> 7.  Use the code snippet below to graphically represent the nearest neighbors."
   ]
  },
  {
   "cell_type": "markdown",
   "id": "d38214ad-85d9-422b-9edc-a8d10035caa1",
   "metadata": {},
   "source": [
    "<details><summary>A hint for graphically representing the nearest neighbors</summary>\n",
    "\n",
    "``` python\n",
    "plt.scatter(X[:, 0], X[:, 1], s=100)\n",
    "\n",
    "# draw lines from each point to its two nearest neighbors\n",
    "K = 2\n",
    "\n",
    "for i in range(X.shape[0]):\n",
    "    for j in nearest_partition[i, :K+1]:\n",
    "        # plot a line from X[i] to X[j]\n",
    "        # use some zip magic to make it happen:\n",
    "        plt.plot(*zip(X[j], X[i]), color='black')\n",
    "```\n",
    "\n",
    "</details>"
   ]
  },
  {
   "cell_type": "markdown",
   "id": "f76a2197-0d10-4023-b068-b22ac54bc1e8",
   "metadata": {},
   "source": [
    "Question 7 result is :"
   ]
  },
  {
   "cell_type": "markdown",
   "id": "8600b66f-651b-42f1-bbd3-e50b2c56f6ea",
   "metadata": {},
   "source": [
    "Did I invent this challenging exercise? Not at all, it comes from the book [*Python Data Science Handbook*](https://jakevdp.github.io/PythonDataScienceHandbook/02.08-sorting.html#Example:-k-Nearest-Neighbors). But if I had told you this immediately, would you have tried to answer the questions?\n",
    "\n",
    "Moreover, it would not be a good idea to generalize this algorithm to large datasets. The complexity of our approach is $O(N^2)$. The algorithm implemented by `Scikit-Learn` is $O[NlogN]$.\n",
    "\n",
    "Additionally, computing matrix distances using the power of GPU (graphics cards) would be faster. In this regard, the library [faiss](https://github.com/facebookresearch/faiss), or the dedicated frameworks for computing distance between high-dimensional vectors like [ChromaDB](https://www.trychroma.com/) offer much more satisfactory performance than `Numpy` for this specific problem.\n",
    "\n",
    "# 6. Additional Exercises\n",
    "\n",
    "`Google` became famous thanks to its `PageRank` algorithm. This algorithm allows, from links between websites, to give an importance score to a website which will be used to evaluate its centrality in a network. The objective of this exercise is to use `Numpy` to implement such an algorithm from an adjacency matrix that links the sites together.\n",
    "\n",
    "> **Comprendre le principe de l’algorithme <code>PageRank</code>**\n",
    ">\n",
    "> `Google` est devenu célèbre grâce à son algorithme `PageRank`. Celui-ci permet, à partir\n",
    "> de liens entre sites *web*, de donner un score d’importance à un site *web* qui va\n",
    "> être utilisé pour évaluer sa centralité dans un réseau. L’objectif de cet exercice est d’utiliser `Numpy` pour mettre en oeuvre un tel algorithme à partir d’une matrice d’adjacence qui relie les sites entre eux.\n",
    ">\n",
    "> 1.  Créer la matrice suivante avec `Numpy`. L’appeler `M`:\n",
    ">\n",
    "> $$\n",
    "> \\begin{bmatrix}\n",
    "> 0 & 0 & 0 & 0 & 1 \\\\\n",
    "> 0.5 & 0 & 0 & 0 & 0 \\\\\n",
    "> 0.5 & 0 & 0 & 0 & 0 \\\\\n",
    "> 0 & 1 & 0.5 & 0 & 0 \\\\\n",
    "> 0 & 0 & 0.5 & 1 & 0\n",
    "> \\end{bmatrix}\n",
    "> $$\n",
    ">\n",
    "> 1.  Pour représenter visuellement ce *web* minimaliste,\n",
    ">     convertir en objet `networkx` (une librairie spécialisée\n",
    ">     dans l’analyse de réseau) et utiliser la fonction `draw`\n",
    ">     de ce package.\n",
    ">\n",
    "> Il s’agit de la transposée de la matrice d’adjacence\n",
    "> qui permet de relier les sites entre eux. Par exemple,\n",
    "> le site 1 (première colonne) est référencé par\n",
    "> les sites 2 et 3. Celui-ci ne référence que le site 5.\n",
    ">\n",
    "> 1.  A partir de la page wikipedia anglaise de `PageRank`, tester\n",
    ">     sur votre matrice."
   ]
  },
  {
   "cell_type": "markdown",
   "id": "fd95df06-50e7-4fa2-9844-21cf784dc665",
   "metadata": {},
   "source": [
    "Site 1 is quite central because it is referenced twice. Site 5 is also central since it is referenced by site 1."
   ]
  }
 ],
 "metadata": {
  "kernelspec": {
   "display_name": "Python 3 (ipykernel)",
   "language": "python",
   "name": "python3",
   "path": "/home/runner/work/python-datascientist/python-datascientist/.venv/share/jupyter/kernels/python3"
  },
  "language_info": {
   "codemirror_mode": {
    "name": "ipython",
    "version": "3"
   },
   "file_extension": ".py",
   "mimetype": "text/x-python",
   "name": "python",
   "nbconvert_exporter": "python",
   "pygments_lexer": "ipython3",
   "version": "3.12.3"
  }
 },
 "nbformat": 4,
 "nbformat_minor": 5
}
