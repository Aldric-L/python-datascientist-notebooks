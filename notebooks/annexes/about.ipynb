{
 "cells": [
  {
   "cell_type": "markdown",
   "id": "1156b7a8-8d78-43b0-83f3-eabdd14734dc",
   "metadata": {},
   "source": [
    "# A propos de ce site\n",
    "\n",
    "Lino Galiana  \n",
    "2025-10-06\n",
    "\n",
    "Site web du cours [*Python pour la data science*](https://www.ensae.fr/courses/1425-python-pour-le-data-scientist)\n",
    "<a href=\"https://github.com/linogaliana/python-datascientist\" class=\"github\"><i class=\"fab fa-python\"></i></a>, une introduction à `Python` pour\n",
    "la deuxième année du cursus d’ingénieur de l’[`ENSAE`](https://www.ensae.fr/) (Master 1).\n",
    "\n",
    "<br>\n",
    "\n",
    "L’ensemble du contenu de ce groupe est librement disponible ici\n",
    "ou sur [`Github`](https://github.com/linogaliana/python-datascientist)\n",
    "<a href=\"https://github.com/linogaliana/python-datascientist\" class=\"github\"><i class=\"fab fa-github\"></i></a> et peut être testé\n",
    "sous forme de *notebooks* `Jupyter`.\n",
    "\n",
    "<br>"
   ]
  },
  {
   "cell_type": "raw",
   "id": "b3c5ddb5-d8f7-4c1c-b6ce-869db7815cea",
   "metadata": {},
   "source": [
    "<details>"
   ]
  },
  {
   "cell_type": "raw",
   "id": "a181ee0f-c4d4-4b5a-8765-70b979f5147a",
   "metadata": {},
   "source": [
    "<summary>"
   ]
  },
  {
   "cell_type": "markdown",
   "id": "b2829eb3-2b5f-43ce-a401-bbad72295157",
   "metadata": {},
   "source": [
    "Exemple avec l’introduction à `Pandas`"
   ]
  },
  {
   "cell_type": "raw",
   "id": "4d8afabc-d848-4363-97f3-cca6f9a5fdbe",
   "metadata": {},
   "source": [
    "</summary>"
   ]
  },
  {
   "cell_type": "raw",
   "id": "3dcb4fc0-dc1e-49a4-be78-1718fee515b9",
   "metadata": {},
   "source": [
    "</details>"
   ]
  },
  {
   "cell_type": "raw",
   "id": "3d11d614-9497-4786-a731-786d9d2ecd3e",
   "metadata": {},
   "source": [
    "<details>"
   ]
  },
  {
   "cell_type": "raw",
   "id": "a14119f5-02dc-4c1c-a02e-3fcf28ea3acc",
   "metadata": {},
   "source": [
    "<summary>"
   ]
  },
  {
   "cell_type": "markdown",
   "id": "ea5bb93e-2566-4b06-92ae-7ac4d032bdae",
   "metadata": {},
   "source": [
    "Au programme:"
   ]
  },
  {
   "cell_type": "raw",
   "id": "a6289908-9751-4fff-bebf-af876750c470",
   "metadata": {},
   "source": [
    "</summary>"
   ]
  },
  {
   "cell_type": "markdown",
   "id": "a77e2d1f-5ff2-40e5-a614-4fc04c351a5e",
   "metadata": {},
   "source": [
    "Globalement, ce cours propose un contenu très complet pouvant autant\n",
    "satisfaire des débutants en\n",
    "*data science* que des personnes à la recherche de contenu plus avancé :\n",
    "<br>\n",
    "\n",
    "1.  **Manipulation de données** : manipulation de données standards (`Pandas`), données géographiques (`Geopandas`), récupération de données (webscraping, API)…\n",
    "2.  **Visualisation de données** : visualisations classiques (`Matplotlib`, `Seaborn`), cartographie, visualisations réactives (`Plotly`, `Folium`)\n",
    "3.  **Modélisation** : *machine learning* (`Scikit`), économétrie\n",
    "4.  **Traitement de données textuelles** (NLP): découverte de la tokenisation avec `NLTK` et `SpaCy`, modélisation…\n",
    "5.  **Introduction à la *data science* moderne** : *cloud computing*, `ElasticSearch`, intégration continue…\n",
    "\n",
    "L’ensemble du contenu de ce site s’appuie sur des **données\n",
    "ouvertes**, qu’il s’agisse de données françaises (principalement\n",
    "issues de la plateforme\n",
    "centralisatrice [`data.gouv`](https://www.data.gouv.fr) ou du site\n",
    "*web* de l’[Insee](https://www.insee.fr)) ou de données\n",
    "américaines. Le programme est présenté de manière linéaire dans la partie supérieure de cette page (👆️) ou de manière désordonnée ci-dessous (👇️).\n",
    "\n",
    "Un bon complément du contenu du site web est le cours que nous donnons avec Romain Avouac en dernière année de l’ENSAE plus tourné autour de la mise en production de projets *data science* : [https://ensae-reproductibilite.github.io/](https://ensae-reproductibilite.github.io/website/)"
   ]
  },
  {
   "cell_type": "raw",
   "id": "7e1a7100-1436-4fea-a9b9-e683b087c47e",
   "metadata": {},
   "source": [
    "</details>"
   ]
  },
  {
   "cell_type": "markdown",
   "id": "eaeaef66-6c7b-4ba9-9779-af7d1435342b",
   "metadata": {},
   "source": [
    ":::::\n",
    "\n",
    "![](https://minio.lab.sspcloud.fr/lgaliana/generative-art/pythonds/kiddos.png)\n",
    "\n",
    "::::\n",
    "\n",
    ":::"
   ]
  }
 ],
 "metadata": {
  "kernelspec": {
   "display_name": "Python 3",
   "language": "python",
   "name": "python3"
  }
 },
 "nbformat": 4,
 "nbformat_minor": 5
}
