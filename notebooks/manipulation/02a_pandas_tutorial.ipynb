{
 "cells": [
  {
   "cell_type": "markdown",
   "id": "c81cd39f-a696-4032-8431-abb5f0261947",
   "metadata": {},
   "source": [
    "# Introduction à Pandas\n",
    "\n",
    "Lino Galiana  \n",
    "2025-10-06\n",
    "\n",
    "La partie `Pandas` a évolué récemment. Vous pouvez retrouver les contenus liés à `Pandas` dans les chapitres suivants:\n",
    "\n",
    "-   [Introduction à `Pandas` et à la logique du *DataFrame*](../../content/manipulation/02_pandas_intro.qmd) ;\n",
    "-   [Statistiques par groupe et association de plusieurs jeux de données avec `Pandas`](../../content/manipulation/02_pandas_suite.qmd) ;"
   ]
  }
 ],
 "metadata": {
  "kernelspec": {
   "display_name": "Python 3",
   "language": "python",
   "name": "python3"
  }
 },
 "nbformat": 4,
 "nbformat_minor": 5
}
