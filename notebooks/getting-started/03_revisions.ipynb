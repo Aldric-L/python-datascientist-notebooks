{
 "cells": [
  {
   "cell_type": "markdown",
   "id": "b9d2edd0-01b8-4957-8a3c-f25058ba7ab0",
   "metadata": {},
   "source": [
    "# Quelques exercices de rappels pour se remettre en selle\n",
    "\n",
    "Lino Galiana  \n",
    "2025-10-06\n",
    "\n",
    "Le contenu de cette page est disponible sur [le site web du cours](pythonds.linogaliana.fr/content/getting-started/04_revisions.html)"
   ]
  }
 ],
 "metadata": {
  "kernelspec": {
   "display_name": "Python 3",
   "language": "python",
   "name": "python3"
  }
 },
 "nbformat": 4,
 "nbformat_minor": 5
}
